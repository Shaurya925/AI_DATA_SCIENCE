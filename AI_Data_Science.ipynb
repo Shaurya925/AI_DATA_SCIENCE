{
  "nbformat": 4,
  "nbformat_minor": 0,
  "metadata": {
    "colab": {
      "provenance": []
    },
    "kernelspec": {
      "name": "python3",
      "display_name": "Python 3"
    },
    "language_info": {
      "name": "python"
    }
  },
  "cells": [
    {
      "cell_type": "code",
      "source": [
        "#variables and input\n",
        "name =str(input(\"what is your name\"))\n",
        "temp = 25\n",
        "carbon_footprint = 500.75\n",
        "is_sustainable = carbon_footprint < 400\n",
        "print(f\"Hello {name} Today temprature is {temp}°C\")\n",
        "print(f\"Carbon Footprint: {carbon_footprint}\")\n",
        "print(f\"Is the city sustainable: {is_sustainable}\")"
      ],
      "metadata": {
        "id": "HoHwFluJSIdQ",
        "collapsed": true
      },
      "execution_count": null,
      "outputs": []
    },
    {
      "cell_type": "code",
      "source": [
        "#list\n",
        "weekly_temp = [25,27,28,26,24,30,29]\n",
        "print(weekly_temp)"
      ],
      "metadata": {
        "id": "CuKuGP7Dg5mA"
      },
      "execution_count": null,
      "outputs": []
    },
    {
      "cell_type": "code",
      "source": [
        "city_data = {\n",
        "    \"city_name\": \"New York\",\n",
        "    \"temperature\": 25,\n",
        "    \"carbon_footprint\": 500.75,\n",
        "    \"is_sustainable\": False\n",
        "}\n",
        "print(f\"City Name: {city_data}\")\n",
        "#using dictionaries we can use pandas to visualise data in a tabular form"
      ],
      "metadata": {
        "id": "BMFLQSAAncIV"
      },
      "execution_count": null,
      "outputs": []
    },
    {
      "cell_type": "code",
      "source": [
        "#assigning multiple variables\n",
        "city_name,temperature,carbon_footprint,is_sustainable = \"City B\",30,500.75,False\n",
        "print(f\"City Name: {city_name} Temp: {temperature}°C\")\n",
        "print(f\"Carbon Footprint: {carbon_footprint} KG CO2\")\n",
        "print(f\"Is the city sustainable: {is_sustainable}\");"
      ],
      "metadata": {
        "id": "uBbly4o6owh-"
      },
      "execution_count": null,
      "outputs": []
    },
    {
      "cell_type": "code",
      "source": [
        "#control Statements\n",
        "count = 5\n",
        "if count > 0:\n",
        "    print(\"Count is greater than zero\")\n",
        "else:\n",
        "    print(\"Count is not greater than zero\")"
      ],
      "metadata": {
        "id": "fJxNNXdXryJG"
      },
      "execution_count": null,
      "outputs": []
    },
    {
      "cell_type": "code",
      "source": [
        "#function creation and implementation\n",
        "def add(x,y):\n",
        "    return x+y\n",
        "\n",
        "result = add(int(input(\"number1\")),int(input(\"number2\")))\n",
        "\n",
        "print(result)"
      ],
      "metadata": {
        "id": "2RTa0Ah9v2vX"
      },
      "execution_count": null,
      "outputs": []
    },
    {
      "cell_type": "code",
      "source": [
        "x =lambda a,b:a+b; #lamda is an anonyomous function which can take number of parameters but only return one expression hence it does not need any return keyword to return the value\n",
        "a = int(input(\"number1\"))\n",
        "b = int(input(\"number2\"))\n",
        "print(x(a,b))"
      ],
      "metadata": {
        "id": "GZ09vPIOxzYX"
      },
      "execution_count": null,
      "outputs": []
    },
    {
      "cell_type": "code",
      "source": [
        "#list comprehension - used to filtering the data from the given list of objects based on a particular condition\n",
        "climate_data = [\n",
        "    {\n",
        "    \"city_name\": \"City A\",\n",
        "    \"temperature\": 25,\n",
        "    \"carbon_footprint\": 500.75,\n",
        "    },\n",
        "    {\n",
        "    \"city_name\": \"City B\",\n",
        "    \"temperature\": 30,\n",
        "    \"carbon_footprint\": 700.50,\n",
        "    },\n",
        "    {\n",
        "    \"city_name\": \"City C\",\n",
        "    \"temperature\": 28,\n",
        "    \"carbon_footprint\": 600.25,\n",
        "    },\n",
        "    {\n",
        "    \"city_name\": \"City D\",\n",
        "    \"temperature\": 22,\n",
        "    \"carbon_footprint\": 400.00,\n",
        "    }\n",
        "]\n",
        "temp_threshold = 26\n",
        "\n",
        "high_temp_cities= [city for city in climate_data if city[\"temperature\"] > temp_threshold]\n",
        "\n",
        "# Iterate through the list and print the city names\n",
        "for city in high_temp_cities:\n",
        "    print(f\"{city['city_name']} -{city['temperature']}°C\")"
      ],
      "metadata": {
        "id": "4My_Ljy8zFOW"
      },
      "execution_count": null,
      "outputs": []
    },
    {
      "cell_type": "code",
      "source": [
        "#caluculating average carbon footprint\n",
        "climate_data = [\n",
        "    {\n",
        "    \"city_name\": \"City A\",\n",
        "    \"temperature\": 25,\n",
        "    \"carbon_footprint\": 500.75,\n",
        "    },\n",
        "    {\n",
        "    \"city_name\": \"City B\",\n",
        "    \"temperature\": 30,\n",
        "    \"carbon_footprint\": 700.50,\n",
        "    },\n",
        "    {\n",
        "    \"city_name\": \"City C\",\n",
        "    \"temperature\": 28,\n",
        "    \"carbon_footprint\": 600.25,\n",
        "    },\n",
        "    {\n",
        "    \"city_name\": \"City D\",\n",
        "    \"temperature\": 22,\n",
        "    \"carbon_footprint\": 400.00,\n",
        "    }\n",
        "]\n",
        "\n",
        "total_carbon = 0\n",
        "\n",
        "for city in climate_data:\n",
        "    total_carbon += city[\"carbon_footprint\"]\n",
        "\n",
        "average_carbon = total_carbon / len(climate_data)\n",
        "\n",
        "print(f\"Total Carbon Footprint: {total_carbon}\")\n",
        "print(f\"Average Carbon Footprint: {average_carbon}\")"
      ],
      "metadata": {
        "id": "cucORG6q451v"
      },
      "execution_count": null,
      "outputs": []
    },
    {
      "cell_type": "code",
      "source": [
        "#use of lambda for filtering the the data for sustainable cities\n",
        "climate_data = [\n",
        "    {\n",
        "    \"city_name\": \"City A\",\n",
        "    \"temperature\": 25,\n",
        "    \"carbon_footprint\": 500.75,\n",
        "    },\n",
        "    {\n",
        "    \"city_name\": \"City B\",\n",
        "    \"temperature\": 30,\n",
        "    \"carbon_footprint\": 700.50,\n",
        "    },\n",
        "    {\n",
        "    \"city_name\": \"City C\",\n",
        "    \"temperature\": 28,\n",
        "    \"carbon_footprint\": 600.25,\n",
        "    },\n",
        "    {\n",
        "    \"city_name\": \"City D\",\n",
        "    \"temperature\": 22,\n",
        "    \"carbon_footprint\": 400.00,\n",
        "    }\n",
        "]\n",
        "sustainiblity_threshold = 600\n",
        "\n",
        "high_carbon_cities = list(filter(lambda city: city[\"carbon_footprint\"] < sustainiblity_threshold, climate_data))\n",
        "\n",
        "for city in high_carbon_cities:\n",
        "    print(f\"{city['city_name']} - {city['carbon_footprint']} CO2 KG\")"
      ],
      "metadata": {
        "id": "3dfiZNCXMHAK"
      },
      "execution_count": null,
      "outputs": []
    },
    {
      "cell_type": "code",
      "source": [
        "#calculating hhighest and lowest footprint using lambda function\n",
        "climate_data = [\n",
        "    {\n",
        "    \"city_name\": \"City A\",\n",
        "    \"temperature\": 25,\n",
        "    \"carbon_footprint\": 500.75,\n",
        "    },\n",
        "    {\n",
        "    \"city_name\": \"City B\",\n",
        "    \"temperature\": 30,\n",
        "    \"carbon_footprint\": 700.50,\n",
        "    },\n",
        "    {\n",
        "    \"city_name\": \"City C\",\n",
        "    \"temperature\": 28,\n",
        "    \"carbon_footprint\": 600.25,\n",
        "    },\n",
        "    {\n",
        "    \"city_name\": \"City D\",\n",
        "    \"temperature\": 22,\n",
        "    \"carbon_footprint\": 400.00,\n",
        "    }\n",
        "]\n",
        "\n",
        "highest_footprint = max(climate_data,key = lambda city:city[\"carbon_footprint\"])\n",
        "\n",
        "lowest_footprint = min(climate_data,key = lambda city:city[\"carbon_footprint\"])\n",
        "\n",
        "\n",
        "\n",
        "print(f\"City with the highest carbon footprint: {highest_footprint['city_name']} - {highest_footprint['carbon_footprint']}\")\n",
        "\n",
        "print(f\"City with the lowest carbon footprint:  {lowest_footprint['city_name']} - {lowest_footprint['carbon_footprint']}\")"
      ],
      "metadata": {
        "id": "WNLj-X4iUtfz"
      },
      "execution_count": null,
      "outputs": []
    },
    {
      "cell_type": "code",
      "source": [
        "#introduction to pandas(Data in tabular form)\n",
        "#dictionaries are converted into tabular form by using pandas Its is important as ml models as datasets are required to train the model\n",
        "#open soure data manipulation built on top of NumPy\n",
        "#merging and joining datasets,data cleaning,tarnsformationand aggregation\n",
        "#provides 2 main data structures: Series(1D->1 excel column) and DataFrames(2D->1 excel column and row)\n",
        "#APPLIICATIONS:Data Handling(importing csv or excel file and hanlde missing data,Data Wrangling,EDA)\n",
        "#---------------------------------------------------------------------------------------------------------------------------------------------------------------------------------------------------------------\n"
      ],
      "metadata": {
        "id": "xm4zPQmFcU_D"
      },
      "execution_count": null,
      "outputs": []
    },
    {
      "cell_type": "code",
      "source": [
        "def calucateCfootprint(engery_consumption,emission_factor):\n",
        "    return engery_consumption * emission_factor\n",
        "\n",
        "print(f\"{calucateCfootprint(1000,0.475)} KG CO2\")"
      ],
      "metadata": {
        "id": "hjFY72PGf0wT"
      },
      "execution_count": null,
      "outputs": []
    },
    {
      "cell_type": "code",
      "source": [
        "!pip install pandas"
      ],
      "metadata": {
        "id": "7AYohClyf0qc"
      },
      "execution_count": null,
      "outputs": []
    },
    {
      "cell_type": "code",
      "source": [
        "import pandas as pd\n",
        "renewable_resources  = [\"Solar\",\"Wind\",\"Hydropower\",\"Geothermal\",\"Biomass\"]\n",
        "data = {\n",
        "    \"Project\":[\"Solar Farm A\",\"Wind Farm B\",\"Hydropower Plant C\",\"Geothermal Plant D\",\"Solar Farm B\"],\n",
        "    \"Technology\":[\"Solar\",\"Wind\",\"Hydropower\",\"Geothermal\",\"Solar\"],\n",
        "    \"Capacity(MW)\":[150,300,200,50,100],\n",
        "    \"Cost(Million $)\":[200,400,350,100,250],\n",
        "    \"Location\":[\"California\",\"Texas\",\"Florida\",\"New York\",\"California\"],\n",
        "    \"Completion Year\":[2023,2022,2023,2022,2023],\n",
        "    # \"Renewable Resources\":renewable_resources\n",
        "}\n",
        "\n",
        "series = pd.Series(renewable_resources)\n",
        "print(\"Renewable_Resources:\")\n",
        "print(series)\n",
        "\n",
        "print(\"\\n Green Technology Dataframe:\")\n",
        "DataFrame = pd.DataFrame(data)\n",
        "print(DataFrame.Project)"
      ],
      "metadata": {
        "id": "RZG7mBHWXUT0"
      },
      "execution_count": null,
      "outputs": []
    },
    {
      "cell_type": "code",
      "source": [
        "#filtering the high capacity projects\n",
        "import pandas as pd\n",
        "renewable_resources  = [\"Solar\",\"Wind\",\"Hydropower\",\"Geothermal\",\"Biomass\"]\n",
        "data = {\n",
        "    \"Project\":[\"Solar Farm A\",\"Wind Farm B\",\"Hydropower Plant C\",\"Geothermal Plant D\",\"Solar Farm B\"],\n",
        "    \"Technology\":[\"Solar\",\"Wind\",\"Hydropower\",\"Geothermal\",\"Solar\"],\n",
        "    \"Capacity(MW)\":[150,300,200,50,100],\n",
        "    \"Cost(Million $)\":[200,400,350,100,250],\n",
        "    \"Location\":[\"California\",\"Texas\",\"Florida\",\"New York\",\"California\"],\n",
        "    \"Completion Year\":[2023,2022,2023,2022,2023],\n",
        "    # \"Renewable Resources\":renewable_resources\n",
        "}\n",
        "\n",
        "\n",
        "DataFrame = pd.DataFrame(data)\n",
        "high_capacity = DataFrame[DataFrame[\"Capacity(MW)\"] > 100]\n",
        "print(high_capacity)\n",
        "\n"
      ],
      "metadata": {
        "id": "Q1xORVfhkYRY"
      },
      "execution_count": null,
      "outputs": []
    },
    {
      "cell_type": "code",
      "source": [
        "#Adding columns\n",
        "import pandas as pd\n",
        "renewable_resources  = [\"Solar\",\"Wind\",\"Hydropower\",\"Geothermal\",\"Biomass\"]\n",
        "data = {\n",
        "    \"Project\":[\"Solar Farm A\",\"Wind Farm B\",\"Hydropower Plant C\",\"Geothermal Plant D\",\"Solar Farm B\"],\n",
        "    \"Technology\":[\"Solar\",\"Wind\",\"Hydropower\",\"Geothermal\",\"Solar\"],\n",
        "    \"Capacity(MW)\":[150,300,200,50,100],\n",
        "    \"Cost(Million $)\":[200,400,350,100,250],\n",
        "    \"Location\":[\"California\",\"Texas\",\"Florida\",\"New York\",\"California\"],\n",
        "    \"Completion Year\":[2023,2022,2023,2022,2023],\n",
        "    # \"Renewable Resources\":renewable_resources\n",
        "}\n",
        "\n",
        "\n",
        "DataFrame = pd.DataFrame(data)\n",
        "DataFrame[\"Cost per MW\"] = DataFrame[\"Cost(Million $)\"] / DataFrame[\"Capacity(MW)\"]\n",
        "print(\"\\n DATAFRAME UPDATED ONE\")\n",
        "print(DataFrame)"
      ],
      "metadata": {
        "id": "G6BBLxE0lHgJ"
      },
      "execution_count": null,
      "outputs": []
    },
    {
      "cell_type": "code",
      "source": [
        "#Finding sums\n",
        "import pandas as pd\n",
        "renewable_resources  = [\"Solar\",\"Wind\",\"Hydropower\",\"Geothermal\",\"Biomass\"]\n",
        "data = {\n",
        "    \"Project\":[\"Solar Farm A\",\"Wind Farm B\",\"Hydropower Plant C\",\"Geothermal Plant D\",\"Solar Farm B\"],\n",
        "    \"Technology\":[\"Solar\",\"Wind\",\"Hydropower\",\"Geothermal\",\"Solar\"],\n",
        "    \"Capacity(MW)\":[150,300,200,50,100],\n",
        "    \"Cost(Million $)\":[200,400,350,100,250],\n",
        "    \"Location\":[\"California\",\"Texas\",\"Florida\",\"New York\",\"California\"],\n",
        "    \"Completion Year\":[2023,2022,2023,2022,2023],\n",
        "    # \"Renewable Resources\":renewable_resources\n",
        "}\n",
        "\n",
        "\n",
        "DataFrame = pd.DataFrame(data)\n",
        "total_cost = DataFrame[\"Cost(Million $)\"].sum()\n",
        "total_capacity = DataFrame[\"Capacity(MW)\"].sum()\n",
        "print(f\"Total Cost: {total_cost} Million $\")\n",
        "print(f\"Total Capacity: {total_capacity} MW\")"
      ],
      "metadata": {
        "id": "6H71lPC9o8hS"
      },
      "execution_count": null,
      "outputs": []
    },
    {
      "cell_type": "code",
      "source": [
        "#Finding sums\n",
        "import pandas as pd\n",
        "renewable_resources  = [\"Solar\",\"Wind\",\"Hydropower\",\"Geothermal\",\"Biomass\"]\n",
        "data = {\n",
        "    \"Project\":[\"Solar Farm A\",\"Wind Farm B\",\"Hydropower Plant C\",\"Geothermal Plant D\",\"Solar Farm B\"],\n",
        "    \"Technology\":[\"Solar\",\"Wind\",\"Hydropower\",\"Geothermal\",\"Solar\"],\n",
        "    \"Capacity(MW)\":[150,300,200,50,100],\n",
        "    \"Cost(Million $)\":[200,400,350,100,250],\n",
        "    \"Location\":[\"California\",\"Texas\",\"Florida\",\"New York\",\"California\"],\n",
        "    \"Completion Year\":[2023,2022,2023,2022,2023],\n",
        "    # \"Renewable Resources\":renewable_resources\n",
        "}\n",
        "\n",
        "\n",
        "DataFrame = pd.DataFrame(data)\n",
        "max_capacity = DataFrame[\"Capacity(MW)\"].max()\n",
        "min_capacity = DataFrame[\"Capacity(MW)\"].min()\n",
        "print(f\"Maximum Capacity: {max_capacity} MW\")\n",
        "print(f\"Minimum Capacity: {min_capacity} MW\")"
      ],
      "metadata": {
        "id": "5-w1F_ZMpuEC"
      },
      "execution_count": null,
      "outputs": []
    },
    {
      "cell_type": "code",
      "source": [
        "#Grouped data\n",
        "import pandas as pd\n",
        "renewable_resources  = [\"Solar\",\"Wind\",\"Hydropower\",\"Geothermal\",\"Biomass\"]\n",
        "data = {\n",
        "    \"Project\":[\"Solar Farm A\",\"Wind Farm B\",\"Hydropower Plant C\",\"Geothermal Plant D\",\"Solar Farm B\"],\n",
        "    \"Technology\":[\"Solar\",\"Wind\",\"Hydropower\",\"Geothermal\",\"Solar\"],\n",
        "    \"Capacity(MW)\":[150,300,200,50,100],\n",
        "    \"Cost(Million $)\":[200,400,350,100,250],\n",
        "    \"Location\":[\"California\",\"Texas\",\"Florida\",\"New York\",\"California\"],\n",
        "    \"Completion Year\":[2023,2022,2023,2022,2023],\n",
        "    # \"Renewable Resources\":renewable_resources\n",
        "}\n",
        "\n",
        "\n",
        "DataFrame = pd.DataFrame(data)\n",
        "grouped_data = DataFrame.groupby(\"Technology\")[\"Capacity(MW)\"].sum()\n",
        "print(grouped_data)\n",
        "\n"
      ],
      "metadata": {
        "id": "lTLV4r_0qiH6"
      },
      "execution_count": null,
      "outputs": []
    },
    {
      "cell_type": "code",
      "source": [
        "# NUMPY-> Numerical python:foundational package for numerical computing\n",
        "# Efficient handling of numerical data\n",
        "# Essential for scientific calculations and data analysis optimised for high speed datadata analysis\n",
        "# Major role in image processing Mostly Numpy and Pandas go hand in hand with each other also works seamlessly with matplotlib and Scipy\n",
        "# ndim -> rows  shape -> columns rand -> random values array\n",
        "# array,.randint(gives in random order),.unique,.dot,.power,.sqrt,.ones,.zeros,.max,.arange(creates array with evenly spaced)"
      ],
      "metadata": {
        "id": "74m2g6WDrwxy"
      },
      "execution_count": null,
      "outputs": []
    },
    {
      "cell_type": "code",
      "source": [
        "!pip install Numpy"
      ],
      "metadata": {
        "id": "C2n0O4HV1G-m"
      },
      "execution_count": null,
      "outputs": []
    },
    {
      "cell_type": "code",
      "source": [
        "import numpy as np\n",
        "energy_consumption = np.array([1200,3400,2900,1800,2500])\n",
        "sum = np.sum(energy_consumption)\n",
        "mean = np.mean(energy_consumption)\n",
        "reshaped = energy_consumption.reshape(5,1)\n",
        "#std the diff btw mean value and observations\n",
        "stdvation = np.std(energy_consumption)\n",
        "print((energy_consumption))\n",
        "print(sum)\n",
        "print(mean)\n",
        "print(stdvation)\n",
        "print(reshaped)"
      ],
      "metadata": {
        "id": "irKkQHXu1MEG"
      },
      "execution_count": null,
      "outputs": []
    },
    {
      "cell_type": "markdown",
      "source": [
        "# Prerequisites for Machine Learning:\n",
        "# Data Preprocessing(EDA) -> Transforming raw data into clean,organised and usable format suitable analysis.It includes cleaning structing and ensure quality and consistency\n",
        "\n",
        "\n",
        "\n",
        "\n",
        "# *4 key Types:*\n",
        "\n",
        "\n",
        "\n",
        "# 1 -> Discovery:Understanding Data\n",
        "# 2 -> Transformation:Making Data suitable for analysis\n",
        "# 3 -> Validation:Ensuring accuracy of data\n",
        "#  4 -> Publishing:Preparing the processed data for usage"
      ],
      "metadata": {
        "id": "ff-Oo4Ca7LcQ"
      }
    },
    {
      "cell_type": "markdown",
      "source": [
        " Prerequisites for Machine Learning:\n",
        "# Data Preprocessing(EDA):\n",
        "# to convert the type of data of different columns into its suitable:Example:df [\"Age\"].astype(int) to check we can use df.info\n",
        "# checking for missing values in the dataset(kaggle,github,paperswithcode) using df.isnull().sum()\n",
        " # If the missing values ae 5% we can negelect it:to Drop It we can use df.dropna() it is known as imputing(filling the missing values) missing values using df.fillna(df[\"age\"]).mean(),df[\"dept\"].unique\n",
        " # Normalisation/Scaling(should only be done for numeric columns): Standard Scalar(using z-score so that the difference between value sint ls large) and MinMax scaling\n",
        " # Encoding of the clean data\n",
        " # Checking For Outliers:boxplot for checking outliers"
      ],
      "metadata": {
        "id": "Ulx-AAIhChDb"
      }
    },
    {
      "cell_type": "code",
      "source": [
        "#before the data fed to ml model it should be in numerical data form, it can only be build with numerical data\n",
        "# In preprocessing all the categorical columns should be converted into numerical columns\n",
        "# Encoding techniques one hat coding label encoding odinal enconding and target encoding\n",
        "# pd.getdummies() used for one hat coding\n",
        "# df.replace([0,/,?,;],np.nan) is necessray as it dont contribute to  model building\n",
        "# To check unique values we can use df.unique()\n",
        "import pandas as pd\n",
        "import numpy as np\n",
        "from sklearn.preprocessing import MinMaxScaler\n",
        "from sklearn.preprocessing import StandardScaler\n",
        "\n",
        "data = {\n",
        "    \"Energy Source\":[\"Solar\",\"Wind\",\"Hydropower\",\"Geothermal\",\"Biomass\",\"Nuclear\"],\n",
        "    \"Energy Consumption\":[1200,np.nan,2900,np.nan,2500,3200],\n",
        "    \"Cost\":[200,400,np.nan,150,250,np.nan]\n",
        "}\n",
        "\n",
        "DataFrame1 = pd.DataFrame(data)\n",
        "print(DataFrame1)\n",
        "print(\"--------------------------\")\n",
        "#Handling Missing values\n",
        "null_count = DataFrame1.isnull().sum()\n",
        "print(null_count)\n",
        "print(\"--------------------------\")\n",
        "\n",
        "# By dropping missing values\n",
        "# cleaned = DataFrame.dropna()\n",
        "# print(cleaned)  (Its of no use since the missing values are more than 5%)\n",
        "\n",
        "# forward Filling\n",
        "forwardfill = DataFrame1.ffill()\n",
        "# print(forwardfill)\n",
        "\n",
        "# Imputing missing values by mean values\n",
        "DataFrame1[\"Energy Consumption\"] = DataFrame1[\"Energy Consumption\"].fillna(DataFrame1[\"Energy Consumption\"].mean())\n",
        "DataFrame1[\"Cost\"] = DataFrame1[\"Cost\"].fillna(DataFrame1[\"Cost\"].mean())\n",
        "print(DataFrame1)\n",
        "print(\"--------------------------\")\n",
        "\n",
        "#MinMaxScaling\n",
        "Mscaler = MinMaxScaler()\n",
        "DataFrame1[[\"Energy Consumption\",\"Cost\"]] = Mscaler.fit_transform(DataFrame1[[\"Energy Consumption\",\"Cost\"]])\n",
        "print(DataFrame1)\n",
        "print(\"--------------------------\")\n",
        "\n",
        "#z-score scaling\n",
        "SScaler = StandardScaler()\n",
        "DataFrame1[[\"Energy Consumption\",\"Cost\"]] = SScaler.fit_transform(DataFrame1[[\"Energy Consumption\",\"Cost\"]])\n",
        "print(DataFrame1)\n",
        "print(\"--------------------------\")\n",
        "\n",
        "#One hat encoding\n",
        "encoded = pd.get_dummies(DataFrame1[\"Energy Source\"])\n",
        "print(encoded)\n",
        "print(\"--------------------------\")\n",
        "\n",
        "#Lastly combined data\n",
        "combined = pd.concat([DataFrame1,encoded],axis = 1)\n",
        "print(combined)"
      ],
      "metadata": {
        "id": "cxoGyulNUiMh"
      },
      "execution_count": null,
      "outputs": []
    },
    {
      "cell_type": "markdown",
      "source": [
        "##DATA VISUALISATION\n",
        "#MATPLOTLIB/Seaborn:\n",
        "It is used for creating static,animated and interactive visualisations:\n",
        "#plots:\n",
        "line,bar,scatter,histogram\n",
        "plot(),scatter(),hist(),hist2d()\n",
        "\n",
        "# from matplotlib import pyplot as plt\n",
        "#.plot(x,y) used for plotting\n",
        "#.title:graph title\n",
        "#.ylabel() y axis name\n",
        "#.xlabel() x axis name\n",
        "#.show() to show graph"
      ],
      "metadata": {
        "id": "D7vh3-WGpaKo"
      }
    },
    {
      "cell_type": "code",
      "source": [
        "from matplotlib import pyplot as plt\n",
        "months = [\"Jan\",\"Feb\",\"Mar\",\"Apr\",\"May\",\"Jun\",\"Jul\",\"Aug\",\"Sep\",\"Oct\",\"Nov\",\"Dec\"]\n",
        "energy_usage = [1200,1300,1100,1400,1600,1700,1200,1000,1800,2000,1350,2100]\n",
        "plt.plot(months,energy_usage, marker = 'o',color = 'b', linestyle = 'dashed')\n",
        "plt.title(\"Monthly Energy Usage\")\n",
        "plt.ylabel(\"Energy Usage(kWh)\")\n",
        "plt.xlabel(\"Months\")\n",
        "plt.show()"
      ],
      "metadata": {
        "id": "WBcLABCdrTHR"
      },
      "execution_count": null,
      "outputs": []
    },
    {
      "cell_type": "code",
      "source": [
        "from matplotlib import pyplot as plt\n",
        "months = [\"Jan\",\"Feb\",\"Mar\",\"Apr\",\"May\",\"Jun\",\"Jul\",\"Aug\",\"Sep\",\"Oct\",\"Nov\",\"Dec\"]\n",
        "energy_usage = [1200,1300,1100,1400,1600,1700,1200,1000,1800,2000,1350,2100]\n",
        "plt.bar(months,energy_usage,color = \"r\")\n",
        "plt.title(\"Monthly Energy Usage\")\n",
        "plt.ylabel(\"Energy Usage(kWh)\")\n",
        "plt.xlabel(\"Months\")\n",
        "plt.show()"
      ],
      "metadata": {
        "id": "vA1UPU4jtNlq"
      },
      "execution_count": null,
      "outputs": []
    },
    {
      "cell_type": "code",
      "source": [
        "from matplotlib import pyplot as plt\n",
        "months = [\"Jan\",\"Feb\",\"Mar\",\"Apr\",\"May\",\"Jun\",\"Jul\",\"Aug\",\"Sep\",\"Oct\",\"Nov\",\"Dec\"]\n",
        "energy_usage = [1200,1300,1100,1400,1600,1700,1200,1000,1800,2000,1350,2100]\n",
        "plt.scatter(months,energy_usage,color = \"g\")\n",
        "plt.title(\"Monthly Energy Usage\")\n",
        "plt.ylabel(\"Energy Usage(kWh)\")\n",
        "plt.xlabel(\"Months\")\n",
        "plt.show()"
      ],
      "metadata": {
        "id": "ZDhmQvZRtV9q"
      },
      "execution_count": null,
      "outputs": []
    },
    {
      "cell_type": "code",
      "source": [
        "from matplotlib import pyplot as plt\n",
        "months = [\"Jan\",\"Feb\",\"Mar\",\"Apr\",\"May\",\"Jun\",\"Jul\",\"Aug\",\"Sep\",\"Oct\",\"Nov\",\"Dec\"]\n",
        "energy_usage = [1200,1300,1100,1400,1600,1700,1200,1000,1800,2000,1350,2100]\n",
        "plt.hist(energy_usage,bins = 5,color = \"y\")\n",
        "plt.title(\"Monthly Energy Usage\")\n",
        "plt.ylabel(\"Energy Usage(kWh)\")\n",
        "plt.xlabel(\"Months\")\n",
        "plt.show()"
      ],
      "metadata": {
        "id": "oDAd939ttZGy"
      },
      "execution_count": null,
      "outputs": []
    },
    {
      "cell_type": "code",
      "source": [
        "from matplotlib import pyplot as plt\n",
        "months = [\"Jan\",\"Feb\",\"Mar\",\"Apr\",\"May\",\"Jun\",\"Jul\",\"Aug\",\"Sep\",\"Oct\",\"Nov\",\"Dec\"]\n",
        "energy_usage = [1200,1300,1100,1400,1600,1700,1200,1000,1800,2000,1350,2100]\n",
        "plt.pie(energy_usage,labels = months,autopct = \"%1.1f%%\")\n",
        "plt.title(\"Monthly Energy Usage\")\n",
        "plt.ylabel(\"Energy Usage(kWh)\")\n",
        "plt.xlabel(\"Months\")\n",
        "plt.show()"
      ],
      "metadata": {
        "id": "1NHPkGjhtcD5"
      },
      "execution_count": null,
      "outputs": []
    },
    {
      "cell_type": "markdown",
      "source": [
        "# Machine Learning And Deep Learning\n",
        "\n",
        "-> Overview of AI and Ml\n",
        "\n",
        "---\n",
        "#Functionality Based\n",
        "\n",
        "*   Reactive Machine AI\n",
        "*   Limited Memory AI\n",
        "*   Theory of mind AI(Sense human emotions)\n",
        "*   Self Aware AI(Final stage of AI)\n",
        "\n",
        "---\n",
        "#Machine Learning Types\n",
        "\n",
        "*   Supervised Learning\n",
        "*   Unsupervised Learning\n",
        "*   Reinforcement Learning\n",
        "*   Semi-supervised Learning\n",
        "\n",
        "---\n",
        "#Workflow\n",
        "1.   Define The problem\n",
        "2.   Collect and preprocess the data\n",
        "3.   Data Spiltting\n",
        "4.   Algorithim Selection\n",
        "5.   Develop Machine Learning Model(Model Training)\n",
        "6.   Test(Evaluation) and Refine the model(Optimisation)\n",
        "7.   Final Model Evaluation or Test Data\n",
        "8.   Deploy Machine Learning Prediction Service\n",
        "9.   Manage Prediction Service\n",
        "---\n",
        "\n",
        "\n",
        "\n",
        "\n",
        "\n",
        "\n",
        "\n",
        "\n",
        "\n"
      ],
      "metadata": {
        "id": "-FTIvIS7jFPr"
      }
    },
    {
      "cell_type": "code",
      "source": [
        "# Data Spiltting(Done after preprocessing of data) training:80% testing:20%\n",
        "# X->Independent Variable/predictive\n",
        "# y -> Dependent variable /target\n",
        "# Feature Importance\n",
        "# Model selection(Logistics Regression)\n",
        "# Training the Model (model.fit(X_train_scaled,y_train))\n",
        "# Evaluate(model.Evaluate)\n",
        "# Hyper Parameter Tuning\n",
        "# Model Saving and Deployment(import joblib.dump(),import pickle)\n",
        "\n",
        "\n",
        "from sklearn.model_selection import train_test_split\n",
        "X_train,X_test,y_train,y_test = train_test_split(X,y,test_size = 0.2,random_state = 42)\n",
        "\n"
      ],
      "metadata": {
        "id": "1H6e0oxsiSf7"
      },
      "execution_count": null,
      "outputs": []
    },
    {
      "cell_type": "markdown",
      "source": [
        "# Types of ML\n",
        "\n",
        "\n",
        "1.   Supervised Learning :)\n",
        "    1. Regression     (If the target is numerical)  \n",
        "    2. Classification (If the target is categorical)\n",
        "\n",
        "2.   Unsupervised Learning :)\n",
        "\n",
        "Mathematics behind regression:\n",
        "Y = b+b1x1+b2x2 +....+ bnxn + e\n",
        "where e = error b = intercept\n",
        "b1..n = cofficient\n",
        "x1..n = Independent Variables\n",
        "\n",
        "---\n",
        "Errors:\n",
        "MAE,MSE,RMSE,R2,Adjusted R-squared(only for regresison)\n",
        "\n",
        "---\n",
        "In Unsupervised ML we can make only clusters(grouping) based on similarities"
      ],
      "metadata": {
        "id": "uZ1ssGtkEWFE"
      }
    },
    {
      "cell_type": "markdown",
      "source": [
        "# **LINEAR REGRESSION**"
      ],
      "metadata": {
        "id": "g777DptBg0jD"
      }
    },
    {
      "cell_type": "code",
      "source": [
        "import pandas as pd\n",
        "import numpy as np\n",
        "import matplotlib.pyplot as plt\n",
        "from sklearn.model_selection import train_test_split\n",
        "from sklearn.linear_model import LinearRegression\n",
        "from sklearn.metrics import mean_absolute_error,mean_squared_error,r2_score\n",
        "\n",
        "df = pd.read_csv(\"/content/appliance_energy (1).csv\")\n",
        "print(df.head())\n",
        "print(\"---------------------\")\n",
        "print(df.isnull().sum())"
      ],
      "metadata": {
        "id": "nQT7JzcuEVfO"
      },
      "execution_count": null,
      "outputs": []
    },
    {
      "cell_type": "code",
      "source": [
        "#Independent Variable\n",
        "X = df['Temperature (°C)']\n",
        "#Dependent Variable\n",
        "y = df['Energy Consumption (kWh)']\n",
        "# Data Spiltting\n",
        "X_train,X_test,y_train,y_test = train_test_split(X,y,test_size = 0.2,random_state = 42)"
      ],
      "metadata": {
        "id": "AufM2gMhoErs"
      },
      "execution_count": null,
      "outputs": []
    },
    {
      "cell_type": "code",
      "source": [
        "# Create Linear Regression Model\n",
        "model = LinearRegression()\n",
        "#Train the model\n",
        "model.fit(X_train.values.reshape(-1,1),y_train)\n",
        "y_pred = model.predict(X_test.values.reshape(-1,1))\n",
        "print(y_pred)"
      ],
      "metadata": {
        "id": "-3XihvgXpfaG"
      },
      "execution_count": null,
      "outputs": []
    },
    {
      "cell_type": "code",
      "source": [
        "#calucate error\n",
        "#Mean squared error\n",
        "mse = mean_squared_error(y_test,y_pred)\n",
        "#R-Squared Score\n",
        "r2 = r2_score(y_test,y_pred)\n",
        "print(f\"Mean Squared Error: {mse}\")\n",
        "print(f\"R-squared: {r2}\")"
      ],
      "metadata": {
        "id": "Bsry3Fbkr9Se"
      },
      "execution_count": null,
      "outputs": []
    },
    {
      "cell_type": "code",
      "source": [
        "plt.scatter(X_test,y_test,color = \"b\")\n",
        "plt.plot(X_test,y_pred,color = \"c\")\n",
        "plt.xlabel(\"Temperature (°C)\")\n",
        "plt.ylabel(\"Energy Consumption (kWh)\")\n",
        "plt.legend()\n",
        "plt.title(\"Energy Consumption vs Temperature\")\n",
        "plt.show()"
      ],
      "metadata": {
        "id": "xeM6wg4xuDVx"
      },
      "execution_count": null,
      "outputs": []
    },
    {
      "cell_type": "markdown",
      "source": [
        "# **Evaluation Matrix**\n",
        "acc = tp+tn/(tp+fp+fn+tn)\n",
        "---\n",
        "tp = true +ve\n",
        "---\n",
        "tn = true -ve\n",
        "---\n",
        "fn = false -ve\n",
        "---\n",
        "fp = false +ve\n",
        "---\n",
        "These values are given by confusion matrix which we can use using seabrone library\n"
      ],
      "metadata": {
        "id": "dB245uw7v_Xe"
      }
    },
    {
      "cell_type": "code",
      "source": [
        "# accuracy = accuracy_score(y_test,y_pred)"
      ],
      "metadata": {
        "id": "G0UcjfTtzJgC"
      },
      "execution_count": null,
      "outputs": []
    },
    {
      "cell_type": "markdown",
      "source": [
        "---\n",
        "Deep Learing is based on nueral network,Each nueral network has number of nuerons(weights)\n",
        "\n",
        "---\n",
        "Each Nueral network has 3 layers\n",
        "\n",
        "---\n",
        "\n",
        " 1. input layer\n",
        " 2. hidden layer\n",
        " 3. output layer\n",
        "\n",
        "---\n",
        "\n",
        "Deep Learning model learns on its own.\n",
        "It is highly accurate and doesnt require human intervention\n",
        "\n",
        "---\n",
        "Nuerons And Layers\n",
        "---\n",
        "1. Nuerons(Basic Building Blocks of Nueral Networks)\n",
        "2. Layers(Groups of Nuerons)\n",
        "3. Activation functions(introduce non lineraity to model, enables it to learn complex relationships)\n",
        "\n",
        "---\n",
        "Popular libraries => tensorflow, kerays, Pytorch\n",
        "---\n",
        "1epoh -> complete cycle of backfeeding and forwardfeeding this single cycle is known as 1 epoh\n",
        "\n",
        "---\n",
        "For hidden layers we use ReLU(Rectified Linear Unit) -> 0-maximum\n",
        "\n",
        "---\n",
        "Sigmoid - 0 nd 1\n",
        "\n",
        "---\n",
        "tanH ( -1 - 1)\n",
        "\n",
        "---\n",
        "SoftMax - MultiClass\n",
        "\n",
        "---"
      ],
      "metadata": {
        "id": "N9ECo_BsqRE_"
      }
    },
    {
      "cell_type": "markdown",
      "source": [
        "# **Image Generation Using GenAI:**\n",
        "---\n",
        "\n",
        "OpenCV is an open soure library used for Image Processing\n",
        "\n",
        "---\n",
        "Image Augmentation -> Preprocessing the images\n",
        "\n",
        "---\n",
        "Segmentation - Dividing the image into meaningful regions\n",
        "\n",
        "---\n",
        "Teachable Machine uses a straightforward process where user can train a model with its own labeled dataset"
      ],
      "metadata": {
        "id": "NFDg4IfIxTb6"
      }
    },
    {
      "cell_type": "code",
      "source": [],
      "metadata": {
        "id": "fVNQriCosO65"
      },
      "execution_count": null,
      "outputs": []
    }
  ]
}